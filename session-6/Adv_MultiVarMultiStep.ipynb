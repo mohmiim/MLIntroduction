{
  "nbformat": 4,
  "nbformat_minor": 0,
  "metadata": {
    "colab": {
      "name": "MultiVarMultiStep.ipynb",
      "provenance": [],
      "collapsed_sections": [],
      "authorship_tag": "ABX9TyNPlh4Oe4NMYcB79TIxmxtR",
      "include_colab_link": true
    },
    "kernelspec": {
      "name": "python3",
      "display_name": "Python 3"
    },
    "accelerator": "GPU"
  },
  "cells": [
    {
      "cell_type": "markdown",
      "metadata": {
        "id": "view-in-github",
        "colab_type": "text"
      },
      "source": [
        "<a href=\"https://colab.research.google.com/github/mohmiim/MLIntroduction/blob/master/session-6/Adv_MultiVarMultiStep.ipynb\" target=\"_parent\"><img src=\"https://colab.research.google.com/assets/colab-badge.svg\" alt=\"Open In Colab\"/></a>"
      ]
    },
    {
      "cell_type": "code",
      "metadata": {
        "id": "F6MPuo3m6jnp",
        "colab_type": "code",
        "outputId": "c822cb5c-90a0-49af-d7e3-8bbb62abd114",
        "colab": {
          "base_uri": "https://localhost:8080/",
          "height": 34
        }
      },
      "source": [
        "import tensorflow as tf"
      ],
      "execution_count": 1,
      "outputs": [
        {
          "output_type": "stream",
          "text": [
            "TensorFlow 2.x selected.\n"
          ],
          "name": "stdout"
        }
      ]
    },
    {
      "cell_type": "code",
      "metadata": {
        "id": "AKiRETFM-BRy",
        "colab_type": "code",
        "outputId": "8b12f426-6235-4ac8-a7cf-fba8f359b5ec",
        "colab": {
          "base_uri": "https://localhost:8080/",
          "height": 202
        }
      },
      "source": [
        "import os\n",
        "\n",
        "!wget --no-check-certificate \\\n",
        "    https://raw.githubusercontent.com/mohmiim/MLIntroduction/master/session-6/data/combined_csv.csv \\\n",
        "    -O /tmp/weather.csv"
      ],
      "execution_count": 2,
      "outputs": [
        {
          "output_type": "stream",
          "text": [
            "--2020-02-11 03:37:10--  https://raw.githubusercontent.com/mohmiim/MLIntroduction/master/session-6/data/combined_csv.csv\n",
            "Resolving raw.githubusercontent.com (raw.githubusercontent.com)... 151.101.0.133, 151.101.64.133, 151.101.128.133, ...\n",
            "Connecting to raw.githubusercontent.com (raw.githubusercontent.com)|151.101.0.133|:443... connected.\n",
            "HTTP request sent, awaiting response... 200 OK\n",
            "Length: 36442977 (35M) [text/plain]\n",
            "Saving to: ‘/tmp/weather.csv’\n",
            "\n",
            "/tmp/weather.csv    100%[===================>]  34.75M   179MB/s    in 0.2s    \n",
            "\n",
            "2020-02-11 03:37:11 (179 MB/s) - ‘/tmp/weather.csv’ saved [36442977/36442977]\n",
            "\n"
          ],
          "name": "stdout"
        }
      ]
    },
    {
      "cell_type": "code",
      "metadata": {
        "id": "s6h0QmOdkSH4",
        "colab_type": "code",
        "colab": {}
      },
      "source": [
        "import pandas as pd\n",
        "import matplotlib.pyplot as plt\n",
        "import csv\n",
        "import numpy as np\n",
        "import tensorflow as tf\n",
        "from tensorflow.keras.models import Sequential\n",
        "from tensorflow.keras.layers import LSTM,Conv1D,Dense,MaxPooling1D,Flatten, Conv1D, Dropout,TimeDistributed, ConvLSTM2D,RepeatVector\n",
        "from tensorflow.keras.optimizers import SGD\n",
        "from tensorflow.keras.losses import Huber\n",
        "from math import sqrt"
      ],
      "execution_count": 0,
      "outputs": []
    },
    {
      "cell_type": "code",
      "metadata": {
        "id": "tdspR5FqqECt",
        "colab_type": "code",
        "outputId": "7e6353eb-c7b7-4e49-f731-d289710cd7b2",
        "colab": {
          "base_uri": "https://localhost:8080/",
          "height": 393
        }
      },
      "source": [
        "df = pd.read_csv(\"/tmp/weather.csv\")\n",
        "\n",
        "\n",
        "columnsToConsider = ['p (mbar)', 'T (degC)', 'rho (g/m**3)']\n",
        "features = df[columnsToConsider]\n",
        "features.index = df['Date Time']\n",
        "\n",
        "\n",
        "features.plot(subplots=True)\n",
        "plt.show()\n",
        "\n",
        "TRAIN_DATA_SIZE = 260000\n",
        "\n",
        "dataset = features.values\n",
        "\n",
        "data_mean = dataset[:TRAIN_DATA_SIZE].mean(axis=0)\n",
        "data_std = dataset[:TRAIN_DATA_SIZE].std(axis=0)\n",
        "\n",
        "dataset = (dataset-data_mean)/data_std\n",
        "\n",
        "print(len(dataset))\n",
        "\n",
        "training_data = dataset[:TRAIN_DATA_SIZE]\n",
        "validation_data = dataset[TRAIN_DATA_SIZE:]\n",
        "\n",
        "print(len(training_data))\n",
        "print(len(validation_data))\n",
        "\n",
        "print(data_mean)\n",
        "print(data_std)\n"
      ],
      "execution_count": 4,
      "outputs": [
        {
          "output_type": "display_data",
          "data": {
            "image/png": "[encoded data removed]",
            "text/plain": [
              "<Figure size 432x288 with 3 Axes>"
            ]
          },
          "metadata": {
            "tags": []
          }
        },
        {
          "output_type": "stream",
          "text": [
            "267783\n",
            "260000\n",
            "7783\n",
            "[ 989.99427458   10.46017931 1212.53332065]\n",
            "[ 8.70687271  8.23557779 39.21867288]\n"
          ],
          "name": "stdout"
        }
      ]
    },
    {
      "cell_type": "code",
      "metadata": {
        "id": "IJxzDCYpalzY",
        "colab_type": "code",
        "colab": {}
      },
      "source": [
        "def sequenceData(dataset, target, start_index, end_index, history_size,target_size, step, single_step=False):\n",
        "    X = []\n",
        "    y = []\n",
        "    start_index = start_index + history_size\n",
        "    if end_index is None:\n",
        "        end_index = len(dataset) - target_size\n",
        "    for i in range(start_index, end_index):\n",
        "        indices = range(i-history_size, i, step)\n",
        "        X.append(dataset[indices])\n",
        "        if single_step:\n",
        "            y.append(target[i+target_size])\n",
        "        else:\n",
        "            y.append(target[i:i+target_size])\n",
        "    return np.array(X), np.array(y)\n"
      ],
      "execution_count": 0,
      "outputs": []
    },
    {
      "cell_type": "code",
      "metadata": {
        "id": "dlk4KgYjal2m",
        "colab_type": "code",
        "colab": {}
      },
      "source": [
        "LOOK_AHEAD = 72\n",
        "STEP = 6\n",
        "WINDOW_SIZE = 720\n",
        "BATCH_SIZE = 256\n",
        "BUFFER_SIZE = 1000\n",
        "SEQ = 5\n",
        "N_LENGTH = int((WINDOW_SIZE/STEP)/SEQ)\n",
        "CONVLSTM = True"
      ],
      "execution_count": 0,
      "outputs": []
    },
    {
      "cell_type": "code",
      "metadata": {
        "id": "PJ2UJPpqal5l",
        "colab_type": "code",
        "outputId": "fa3f8f44-0b5d-46ed-8366-cf54d68cc2e7",
        "colab": {
          "base_uri": "https://localhost:8080/",
          "height": 84
        }
      },
      "source": [
        "X_train, y_train = sequenceData(dataset, dataset[:, 1], 0,\n",
        "                                 TRAIN_DATA_SIZE, WINDOW_SIZE,\n",
        "                                 LOOK_AHEAD, STEP)\n",
        "\n",
        "X_val, y_val = sequenceData(dataset, dataset[:, 1],\n",
        "                            TRAIN_DATA_SIZE, None, WINDOW_SIZE,\n",
        "                            LOOK_AHEAD, STEP)\n",
        "\n",
        "print(X_train.shape)\n",
        "print(y_train.shape)\n",
        "print(X_val.shape)\n",
        "print(y_val.shape)"
      ],
      "execution_count": 7,
      "outputs": [
        {
          "output_type": "stream",
          "text": [
            "(259280, 120, 3)\n",
            "(259280, 72)\n",
            "(6991, 120, 3)\n",
            "(6991, 72)\n"
          ],
          "name": "stdout"
        }
      ]
    },
    {
      "cell_type": "code",
      "metadata": {
        "id": "18auZB5HamC3",
        "colab_type": "code",
        "colab": {
          "base_uri": "https://localhost:8080/",
          "height": 50
        },
        "outputId": "e5ee58c2-ff2a-4179-fcc1-042f77fb0596"
      },
      "source": [
        "if CONVLSTM:\n",
        "    print(X_train.shape)\n",
        "    X_train = X_train.reshape(X_train.shape[0],SEQ,1,N_LENGTH,X_train.shape[2])\n",
        "    X_val = X_val.reshape(X_val.shape[0],SEQ,1,N_LENGTH,X_val.shape[2])\n",
        "    print(X_train.shape)\n",
        "\n",
        "train_data = tf.data.Dataset.from_tensor_slices((X_train, y_train))\n",
        "train_data = train_data.shuffle(BUFFER_SIZE).batch(BATCH_SIZE)\n",
        "\n",
        "val_data = tf.data.Dataset.from_tensor_slices((X_val, y_val))\n",
        "val_data = val_data.batch(BATCH_SIZE)"
      ],
      "execution_count": 8,
      "outputs": [
        {
          "output_type": "stream",
          "text": [
            "(259280, 120, 3)\n",
            "(259280, 5, 1, 24, 3)\n"
          ],
          "name": "stdout"
        }
      ]
    },
    {
      "cell_type": "code",
      "metadata": {
        "id": "MLNA99MtqmV6",
        "colab_type": "code",
        "colab": {}
      },
      "source": [
        "def create_time_steps(length):\n",
        "    return list(range(-length, 0))"
      ],
      "execution_count": 0,
      "outputs": []
    },
    {
      "cell_type": "code",
      "metadata": {
        "id": "F5eY9kkdPOLX",
        "colab_type": "code",
        "colab": {}
      },
      "source": [
        "def multi_step_plot(history, true_future, prediction):\n",
        "    plt.figure(figsize=(12, 6))\n",
        "    num_in = create_time_steps(len(history))\n",
        "    num_out = len(true_future)\n",
        "    plt.plot(num_in, np.array(history[:, 1]), label='History')\n",
        "    plt.plot(np.arange(num_out)/STEP, np.array(true_future), 'bo',\n",
        "             label='True Future')\n",
        "    if prediction.any():\n",
        "        plt.plot(np.arange(num_out)/STEP, np.array(prediction), 'ro',\n",
        "                 label='Predicted Future')\n",
        "        plt.legend(loc='upper left')\n",
        "    plt.show()"
      ],
      "execution_count": 0,
      "outputs": []
    },
    {
      "cell_type": "code",
      "metadata": {
        "id": "V9HCYNjYQffz",
        "colab_type": "code",
        "outputId": "c7acb888-49a2-4e5f-a1e4-b88925df4829",
        "colab": {
          "base_uri": "https://localhost:8080/",
          "height": 408
        }
      },
      "source": [
        "for x, y in train_data.take(1):\n",
        "  if CONVLSTM :\n",
        "    print(x[0].shape)\n",
        "    x = x[0].numpy().reshape(SEQ*N_LENGTH,x.shape[4])\n",
        "    print(x.shape)\n",
        "    multi_step_plot(x, y[0], np.array([0]))\n",
        "  else:\n",
        "    multi_step_plot(x[0], y[0], np.array([0]))"
      ],
      "execution_count": 11,
      "outputs": [
        {
          "output_type": "stream",
          "text": [
            "(5, 1, 24, 3)\n",
            "(120, 3)\n"
          ],
          "name": "stdout"
        },
        {
          "output_type": "display_data",
          "data": {
            "image/png": "[encoded data removed]",
            "text/plain": [
              "<Figure size 864x432 with 1 Axes>"
            ]
          },
          "metadata": {
            "tags": []
          }
        }
      ]
    },
    {
      "cell_type": "code",
      "metadata": {
        "id": "9DqXAqsAROg8",
        "colab_type": "code",
        "colab": {}
      },
      "source": [
        "def createConv_LSTMModel() :\n",
        "  model = Sequential()\n",
        "  model.add(Conv1D(512, 5, activation='relu', input_shape=X_train.shape[-2:]))\n",
        "  model.add(Conv1D(512, 5, activation='relu'))\n",
        "  model.add(MaxPooling1D())\n",
        "  model.add(LSTM(144,return_sequences=True,activation='relu'))\n",
        "  model.add(LSTM(72, activation='relu'))\n",
        "  model.add(Dense(72))\n",
        "  model.compile(optimizer=tf.keras.optimizers.Adam(), loss='mae')\n",
        "  return model"
      ],
      "execution_count": 0,
      "outputs": []
    },
    {
      "cell_type": "code",
      "metadata": {
        "id": "dwIatiJTTHs9",
        "colab_type": "code",
        "colab": {}
      },
      "source": [
        "def createConvLSTM() :\n",
        "    model = Sequential()\n",
        "    print(X_train.shape[2])\n",
        "    model.add(ConvLSTM2D(64, (1,3), activation='relu', input_shape=(SEQ, 1, N_LENGTH, X_train.shape[4]))) \n",
        "    model.add(Flatten())\n",
        "    model.add(RepeatVector(72))\n",
        "    model.add(LSTM(200, activation='relu', return_sequences=True))\n",
        "    model.add(TimeDistributed(Dense(100, activation='relu')))\n",
        "    model.add(TimeDistributed(Dense(1)))\n",
        "    model.compile(loss='mse', optimizer='adam')\n",
        "    return model"
      ],
      "execution_count": 0,
      "outputs": []
    },
    {
      "cell_type": "code",
      "metadata": {
        "id": "9RCXaz_kWvoQ",
        "colab_type": "code",
        "colab": {}
      },
      "source": [
        "def createLSTMModel() :\n",
        "  model = Sequential()\n",
        "  model.add(LSTM(32,return_sequences=True,activation='relu',input_shape=X_train.shape[-2:]))\n",
        "  model.add(LSTM(16, activation='relu'))\n",
        "  model.add(Dense(72))\n",
        "  model.compile(optimizer=tf.keras.optimizers.Adam(), loss='mae')\n",
        "  return model"
      ],
      "execution_count": 0,
      "outputs": []
    },
    {
      "cell_type": "code",
      "metadata": {
        "id": "EoUi8xGDSama",
        "colab_type": "code",
        "outputId": "382ce5a9-d664-49f5-bd88-e1684bdda94e",
        "colab": {
          "base_uri": "https://localhost:8080/",
          "height": 370
        }
      },
      "source": [
        "if CONVLSTM:    \n",
        "    model  = createConvLSTM()\n",
        "else:\n",
        "    model = createLSTMModel()\n",
        "    \n",
        "model.summary()\n"
      ],
      "execution_count": 15,
      "outputs": [
        {
          "output_type": "stream",
          "text": [
            "1\n",
            "Model: \"sequential\"\n",
            "_________________________________________________________________\n",
            "Layer (type)                 Output Shape              Param #   \n",
            "=================================================================\n",
            "conv_lst_m2d (ConvLSTM2D)    (None, 1, 22, 64)         51712     \n",
            "_________________________________________________________________\n",
            "flatten (Flatten)            (None, 1408)              0         \n",
            "_________________________________________________________________\n",
            "repeat_vector (RepeatVector) (None, 72, 1408)          0         \n",
            "_________________________________________________________________\n",
            "lstm (LSTM)                  (None, 72, 200)           1287200   \n",
            "_________________________________________________________________\n",
            "time_distributed (TimeDistri (None, 72, 100)           20100     \n",
            "_________________________________________________________________\n",
            "time_distributed_1 (TimeDist (None, 72, 1)             101       \n",
            "=================================================================\n",
            "Total params: 1,359,113\n",
            "Trainable params: 1,359,113\n",
            "Non-trainable params: 0\n",
            "_________________________________________________________________\n"
          ],
          "name": "stdout"
        }
      ]
    },
    {
      "cell_type": "code",
      "metadata": {
        "id": "BeN7kY-XSsQo",
        "colab_type": "code",
        "outputId": "915a1077-bf13-40c1-9c56-53a220088982",
        "colab": {
          "base_uri": "https://localhost:8080/",
          "height": 67
        }
      },
      "source": [
        "EVALUATION_INTERVAL = 200\n",
        "EPOCHS = 50\n",
        "\n",
        "history = model.fit(train_data, epochs=EPOCHS)\n",
        "\n",
        "\n"
      ],
      "execution_count": 0,
      "outputs": [
        {
          "output_type": "stream",
          "text": [
            "Train for 1013 steps\n",
            "Epoch 1/50\n",
            " 721/1013 [====================>.........] - ETA: 34s - loss: 32.5876"
          ],
          "name": "stdout"
        }
      ]
    },
    {
      "cell_type": "code",
      "metadata": {
        "id": "Nnh0sHv1SsXJ",
        "colab_type": "code",
        "colab": {}
      },
      "source": [
        "for X, y in val_data.take(10):\n",
        "    if CONVLSTM:\n",
        "        multi_step_plot(X[0].numpy().reshape(SEQ*N_LENGTH,X.shape[4]), y[0], model.predict(X)[0])\n",
        "    else :\n",
        "        multi_step_plot(X[0], y[0], model.predict(X)[0])"
      ],
      "execution_count": 0,
      "outputs": []
    }
  ]
}
