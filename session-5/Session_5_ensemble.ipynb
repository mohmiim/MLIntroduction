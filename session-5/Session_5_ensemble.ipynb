{
  "nbformat": 4,
  "nbformat_minor": 0,
  "metadata": {
    "colab": {
      "name": "Session 5 ensemble.ipynb",
      "provenance": [],
      "collapsed_sections": [],
      "include_colab_link": true
    },
    "kernelspec": {
      "name": "python3",
      "display_name": "Python 3"
    },
    "accelerator": "GPU"
  },
  "cells": [
    {
      "cell_type": "markdown",
      "metadata": {
        "id": "view-in-github",
        "colab_type": "text"
      },
      "source": [
        "<a href=\"https://colab.research.google.com/github/mohmiim/MLIntroduction/blob/master/session-5/Session_5_ensemble.ipynb\" target=\"_parent\"><img src=\"https://colab.research.google.com/assets/colab-badge.svg\" alt=\"Open In Colab\"/></a>"
      ]
    },
    {
      "cell_type": "code",
      "metadata": {
        "id": "cH0nEqhSmiY8",
        "colab_type": "code",
        "outputId": "e81bc11b-c51d-4218-d2f6-7078ee904ab6",
        "colab": {
          "base_uri": "https://localhost:8080/",
          "height": 34
        }
      },
      "source": [
        "import tensorflow as tf\n",
        "print(tf.__version__)"
      ],
      "execution_count": 1,
      "outputs": [
        {
          "output_type": "stream",
          "text": [
            "2.2.0-rc1\n"
          ],
          "name": "stdout"
        }
      ]
    },
    {
      "cell_type": "code",
      "metadata": {
        "id": "cXxE1PavhYPA",
        "colab_type": "code",
        "colab": {}
      },
      "source": [
        "from tensorflow.keras.preprocessing.image import ImageDataGenerator\n",
        "from tensorflow.keras.applications import xception, inception_v3, resnet_v2, vgg19,densenet\n",
        "from tensorflow.keras.applications.mobilenet import preprocess_input\n",
        "from tensorflow.keras.models import Sequential\n",
        "from tensorflow.keras.layers import Dense,Dropout, Conv2D, Flatten, MaxPool2D\n",
        "from tensorflow.keras.activations import relu,softmax\n",
        "from tensorflow.keras.optimizers import Adam\n",
        "from tensorflow.keras.utils import to_categorical"
      ],
      "execution_count": 0,
      "outputs": []
    },
    {
      "cell_type": "code",
      "metadata": {
        "id": "mDgvcNBvhZ_z",
        "colab_type": "code",
        "colab": {}
      },
      "source": [
        "\n",
        "# https://github.com/mohmiim/MLIntroduction/raw/master/data/data.zip\n",
        "# https://github.com/mohmiim/MLIntroduction/raw/master/data/smallData.zi\n"
      ],
      "execution_count": 0,
      "outputs": []
    },
    {
      "cell_type": "code",
      "metadata": {
        "id": "7wHMo_eCj7ox",
        "colab_type": "code",
        "colab": {}
      },
      "source": [
        "import os\n",
        "\n",
        "!wget --no-check-certificate \\\n",
        "    https://github.com/mohmiim/MLIntroduction/raw/master/data/data.zip \\\n",
        "    -O /tmp/data.zip"
      ],
      "execution_count": 0,
      "outputs": []
    },
    {
      "cell_type": "code",
      "metadata": {
        "id": "3fl8-oY0xp_p",
        "colab_type": "code",
        "colab": {}
      },
      "source": [
        "import zipfile\n",
        "def unzip(file,target):\n",
        "  zip_ref = zipfile.ZipFile(file, 'r')\n",
        "  zip_ref.extractall(target)\n",
        "  zip_ref.close()\n",
        "\n",
        "unzip(\"/tmp/data.zip\",\"/tmp\")"
      ],
      "execution_count": 0,
      "outputs": []
    },
    {
      "cell_type": "code",
      "metadata": {
        "id": "NMcV0Ni6121i",
        "colab_type": "code",
        "outputId": "61184f58-3149-405d-d5eb-d66f9a220503",
        "colab": {
          "base_uri": "https://localhost:8080/",
          "height": 34
        }
      },
      "source": [
        "\n",
        "print(os.listdir(\"/tmp/data\"))\n"
      ],
      "execution_count": 5,
      "outputs": [
        {
          "output_type": "stream",
          "text": [
            "['test', 'train', '.gitignore']\n"
          ],
          "name": "stdout"
        }
      ]
    },
    {
      "cell_type": "code",
      "metadata": {
        "id": "46YH94wzzohX",
        "colab_type": "code",
        "colab": {}
      },
      "source": [
        "#default sizes\n",
        "Image_Width = 100\n",
        "Image_Height = 100\n",
        "Image_Depth = 3\n",
        "targetSize = (Image_Width,Image_Height)\n",
        "targetSize_withdepth = (Image_Width,Image_Height,Image_Depth)\n",
        "\n",
        "epochs = 100\n",
        "x_train = []\n",
        "y_train = []\n",
        "y_labels = []"
      ],
      "execution_count": 0,
      "outputs": []
    },
    {
      "cell_type": "code",
      "metadata": {
        "id": "xgCDVbqqzqdG",
        "colab_type": "code",
        "outputId": "c4acfa6b-8c06-4b9f-81c9-ed3bd677dcf2",
        "colab": {
          "base_uri": "https://localhost:8080/",
          "height": 34
        }
      },
      "source": [
        "#define the sub folders for both training and test\n",
        "training = os.path.join(\"/tmp/data\",'train')\n",
        "\n",
        "train_data_generator = ImageDataGenerator(preprocessing_function=xception.preprocess_input,\n",
        "                                          width_shift_range=0.2,\n",
        "                                          height_shift_range=0.2,\n",
        "                                          zoom_range=0.2,\n",
        "                                          fill_mode='nearest')\n",
        "\n",
        "\n",
        "train_generator = train_data_generator.flow_from_directory(training,\n",
        "                                                           batch_size=229,\n",
        "                                                           target_size=targetSize,\n",
        "                                                           #seed=12\n",
        "                                                           shuffle=False\n",
        "                                                           )"
      ],
      "execution_count": 7,
      "outputs": [
        {
          "output_type": "stream",
          "text": [
            "Found 229 images belonging to 5 classes.\n"
          ],
          "name": "stdout"
        }
      ]
    },
    {
      "cell_type": "code",
      "metadata": {
        "id": "Baa_vmkkM32e",
        "colab_type": "code",
        "outputId": "ca728ae9-1309-4702-f47a-08f878296ece",
        "colab": {
          "base_uri": "https://localhost:8080/",
          "height": 34
        }
      },
      "source": [
        "y_train =  train_generator.classes\n",
        "for k in train_generator.class_indices.keys():\n",
        "    y_labels.append(k)\n",
        "y_train = to_categorical(y_train)\n",
        "\n",
        "print(len(y_train))"
      ],
      "execution_count": 8,
      "outputs": [
        {
          "output_type": "stream",
          "text": [
            "229\n"
          ],
          "name": "stdout"
        }
      ]
    },
    {
      "cell_type": "code",
      "metadata": {
        "id": "-nU9RpJy4110",
        "colab_type": "code",
        "colab": {}
      },
      "source": [
        "# NOW WE LOAD THE PRE_TRAINED MODEL\n",
        "FEATURE_EXTRACTOR = vgg19.VGG19(weights='imagenet',include_top=False,input_shape=targetSize_withdepth)\n",
        "model = Sequential()\n",
        "model.add(FEATURE_EXTRACTOR)\n",
        "model.add(Flatten())\n",
        "features_x = model.predict(train_generator, steps=1)\n",
        "print(features_x.shape)"
      ],
      "execution_count": 0,
      "outputs": []
    },
    {
      "cell_type": "code",
      "metadata": {
        "id": "BM7TB_i_VqTI",
        "colab_type": "code",
        "colab": {}
      },
      "source": [
        "FEATURE_EXTRACTOR1 = xception.Xception(weights='imagenet',include_top=False,input_shape=targetSize_withdepth)\n",
        "model1 = Sequential()\n",
        "model1.add(FEATURE_EXTRACTOR1)\n",
        "model1.add(Flatten())\n",
        "features_x1 = model1.predict(train_generator, steps=1)\n",
        "print(features_x1.shape)"
      ],
      "execution_count": 0,
      "outputs": []
    },
    {
      "cell_type": "code",
      "metadata": {
        "id": "VgGzLumvVumu",
        "colab_type": "code",
        "colab": {}
      },
      "source": [
        "FEATURE_EXTRACTOR2 = resnet_v2.ResNet152V2(weights='imagenet',include_top=False,input_shape=targetSize_withdepth)\n",
        "model2 = Sequential()\n",
        "model2.add(FEATURE_EXTRACTOR2)\n",
        "model2.add(Flatten())\n",
        "features_x2 = model2.predict(train_generator, steps=1)\n",
        "print(features_x2.shape)"
      ],
      "execution_count": 0,
      "outputs": []
    },
    {
      "cell_type": "code",
      "metadata": {
        "id": "m-mtXyC2Vy64",
        "colab_type": "code",
        "colab": {}
      },
      "source": [
        "FEATURE_EXTRACTOR3 = inception_v3.InceptionV3(weights='imagenet',include_top=False,input_shape=targetSize_withdepth)\n",
        "model3 = Sequential()\n",
        "model3.add(FEATURE_EXTRACTOR3)\n",
        "model3.add(Flatten())\n",
        "features_x3 = model3.predict(train_generator, steps=1)\n",
        "print(features_x3.shape)"
      ],
      "execution_count": 0,
      "outputs": []
    },
    {
      "cell_type": "code",
      "metadata": {
        "id": "fO0xjllkV2Ns",
        "colab_type": "code",
        "colab": {}
      },
      "source": [
        "FEATURE_EXTRACTOR4 = densenet.DenseNet201(weights='imagenet',include_top=False,input_shape=targetSize_withdepth)\n",
        "model4 = Sequential()\n",
        "model4.add(FEATURE_EXTRACTOR4)\n",
        "model4.add(Flatten())\n",
        "features_x4 = model4.predict(train_generator,steps=1)\n",
        "print(features_x4.shape)"
      ],
      "execution_count": 0,
      "outputs": []
    },
    {
      "cell_type": "code",
      "metadata": {
        "id": "QpeIw1oJWIrF",
        "colab_type": "code",
        "outputId": "9356713d-6d7d-4783-b3f7-a2822d01874d",
        "colab": {
          "base_uri": "https://localhost:8080/",
          "height": 34
        }
      },
      "source": [
        "import numpy as np\n",
        "all_features = np.concatenate((features_x, features_x1,features_x2,features_x3,features_x4), axis=1)\n",
        "print(all_features.shape)"
      ],
      "execution_count": 14,
      "outputs": [
        {
          "output_type": "stream",
          "text": [
            "(229, 75136)\n"
          ],
          "name": "stdout"
        }
      ]
    },
    {
      "cell_type": "code",
      "metadata": {
        "id": "M7_YLYKh4_69",
        "colab_type": "code",
        "outputId": "3acb20b7-f59b-4663-b5c3-06f00251a8b4",
        "colab": {
          "base_uri": "https://localhost:8080/",
          "height": 319
        }
      },
      "source": [
        "model = Sequential()\n",
        "\n",
        "#add our layers\n",
        "model.add(Flatten(input_shape=all_features.shape[1:]))\n",
        "model.add(Dense(128,activation=relu))\n",
        "model.add(Dropout(0.1))\n",
        "model.add(Dense(64,activation=relu))\n",
        "model.add(Dense(len(y_labels),activation='softmax'))\n",
        "history = model.compile(optimizer=Adam(learning_rate=0.0001), loss=\"categorical_crossentropy\", metrics=['accuracy'])\n",
        "\n",
        "model.summary()\n"
      ],
      "execution_count": 15,
      "outputs": [
        {
          "output_type": "stream",
          "text": [
            "Model: \"sequential_5\"\n",
            "_________________________________________________________________\n",
            "Layer (type)                 Output Shape              Param #   \n",
            "=================================================================\n",
            "flatten_5 (Flatten)          (None, 75136)             0         \n",
            "_________________________________________________________________\n",
            "dense (Dense)                (None, 128)               9617536   \n",
            "_________________________________________________________________\n",
            "dropout (Dropout)            (None, 128)               0         \n",
            "_________________________________________________________________\n",
            "dense_1 (Dense)              (None, 64)                8256      \n",
            "_________________________________________________________________\n",
            "dense_2 (Dense)              (None, 5)                 325       \n",
            "=================================================================\n",
            "Total params: 9,626,117\n",
            "Trainable params: 9,626,117\n",
            "Non-trainable params: 0\n",
            "_________________________________________________________________\n"
          ],
          "name": "stdout"
        }
      ]
    },
    {
      "cell_type": "code",
      "metadata": {
        "id": "9aP5o-fnTIip",
        "colab_type": "code",
        "colab": {}
      },
      "source": [
        "from tensorflow.keras.callbacks import Callback\n",
        "class myCallBacks(Callback):\n",
        "    \n",
        "    def on_epoch_end(self, epoch, logs={}):\n",
        "        if (logs.get('loss')<=self.loss) :\n",
        "            print(\"\\n Reached {1} loss on epoch {0}, stopping training\".format(epoch+1,self.loss))\n",
        "            self.model.stop_training = True\n",
        "    \n",
        "    def __init__(self, loss=1E-4):\n",
        "        self.loss = loss"
      ],
      "execution_count": 0,
      "outputs": []
    },
    {
      "cell_type": "code",
      "metadata": {
        "id": "j0Qc4OTsN5Z5",
        "colab_type": "code",
        "colab": {}
      },
      "source": [
        "epochs = 500\n",
        "callBack = myCallBacks(loss=1E-7)\n",
        "model.fit(all_features,y_train,epochs=epochs,shuffle=True,verbose=2,callbacks=[callBack])"
      ],
      "execution_count": 0,
      "outputs": []
    },
    {
      "cell_type": "code",
      "metadata": {
        "id": "rs7dyScZ-Hiu",
        "colab_type": "code",
        "outputId": "4f6dece1-be18-41bf-8d72-89dfc4dd2a76",
        "colab": {
          "base_uri": "https://localhost:8080/",
          "height": 34
        }
      },
      "source": [
        "test_data_generator = ImageDataGenerator(preprocessing_function=xception.preprocess_input)\n",
        "test_generator = test_data_generator.flow_from_directory(\"/tmp/data/test\",\n",
        "                                                         target_size=(100,100),\n",
        "                                                         batch_size=93,\n",
        "                                                         shuffle=False)"
      ],
      "execution_count": 18,
      "outputs": [
        {
          "output_type": "stream",
          "text": [
            "Found 93 images belonging to 5 classes.\n"
          ],
          "name": "stdout"
        }
      ]
    },
    {
      "cell_type": "code",
      "metadata": {
        "id": "mxf9jjNR-Kwv",
        "colab_type": "code",
        "colab": {}
      },
      "source": [
        "FEATURE_EXTRACTOR =  vgg19.VGG19(weights='imagenet',include_top=False,input_shape=targetSize_withdepth)\n",
        "model0 = Sequential()\n",
        "model0.add(FEATURE_EXTRACTOR)\n",
        "model0.add(Flatten())\n",
        "features_x = model0.predict(test_generator,steps=1)\n",
        "print(type(features_x).__name__)\n",
        "print(features_x.shape)\n",
        "\n",
        "FEATURE_EXTRACTOR1 = xception.Xception(weights='imagenet',include_top=False,input_shape=targetSize_withdepth)\n",
        "model1 = Sequential()\n",
        "model1.add(FEATURE_EXTRACTOR1)\n",
        "model1.add(Flatten())\n",
        "features_x1 = model1.predict(test_generator,steps=1)\n",
        "print(type(features_x1).__name__)\n",
        "print(features_x1.shape)\n",
        "\n",
        "FEATURE_EXTRACTOR2 = resnet_v2.ResNet152V2(weights='imagenet',include_top=False,input_shape=targetSize_withdepth)\n",
        "model2 = Sequential()\n",
        "model2.add(FEATURE_EXTRACTOR2)\n",
        "model2.add(Flatten())\n",
        "features_x2 = model2.predict(test_generator, steps=1)\n",
        "print(type(features_x2).__name__)\n",
        "print(features_x2.shape)\n",
        "\n",
        "FEATURE_EXTRACTOR3 = inception_v3.InceptionV3(weights='imagenet',include_top=False,input_shape=targetSize_withdepth)\n",
        "model3 = Sequential()\n",
        "model3.add(FEATURE_EXTRACTOR3)\n",
        "model3.add(Flatten())\n",
        "features_x3 = model3.predict(test_generator,steps=1)\n",
        "print(type(features_x3).__name__)\n",
        "print(features_x3.shape)\n",
        "\n",
        "FEATURE_EXTRACTOR4 = densenet.DenseNet201(weights='imagenet',include_top=False,input_shape=targetSize_withdepth)\n",
        "model4 = Sequential()\n",
        "model4.add(FEATURE_EXTRACTOR4)\n",
        "model4.add(Flatten())\n",
        "features_x4 = model4.predict(test_generator,steps=1)\n",
        "print(type(features_x4).__name__)\n",
        "print(features_x4.shape)\n",
        "\n",
        "all_features = np.concatenate((features_x, features_x1,features_x2,features_x3,features_x4), axis=1)\n"
      ],
      "execution_count": 0,
      "outputs": []
    },
    {
      "cell_type": "code",
      "metadata": {
        "id": "z6_pk9WdZBp0",
        "colab_type": "code",
        "colab": {}
      },
      "source": [
        "predictions = model.predict(all_features)"
      ],
      "execution_count": 0,
      "outputs": []
    },
    {
      "cell_type": "code",
      "metadata": {
        "id": "o5UL4nEXDCD0",
        "colab_type": "code",
        "colab": {}
      },
      "source": [
        "from sklearn.metrics import confusion_matrix,classification_report\n",
        "row_index = predictions.argmax(axis=1)\n",
        "filenames = test_generator.filenames\n",
        "nb_samples = len(filenames)\n",
        "y_true = test_generator.classes\n",
        "target_names = test_generator.class_indices.keys()\n",
        "print(target_names)\n",
        "print(confusion_matrix(y_true, row_index))\n",
        "print('Classification Report')\n",
        "target_names = test_generator.class_indices.keys()\n",
        "print(classification_report(test_generator.classes, row_index, target_names=target_names))"
      ],
      "execution_count": 0,
      "outputs": []
    }
  ]
}
