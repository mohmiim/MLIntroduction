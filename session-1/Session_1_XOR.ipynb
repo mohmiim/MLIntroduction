{
  "nbformat": 4,
  "nbformat_minor": 0,
  "metadata": {
    "colab": {
      "name": "Session-1 XOR.ipynb",
      "provenance": [],
      "include_colab_link": true
    },
    "kernelspec": {
      "name": "python3",
      "display_name": "Python 3"
    }
  },
  "cells": [
    {
      "cell_type": "markdown",
      "metadata": {
        "id": "view-in-github",
        "colab_type": "text"
      },
      "source": [
        "<a href=\"https://colab.research.google.com/github/mohmiim/MLIntroduction/blob/master/session-1/Session_1_XOR.ipynb\" target=\"_parent\"><img src=\"https://colab.research.google.com/assets/colab-badge.svg\" alt=\"Open In Colab\"/></a>"
      ]
    },
    {
      "cell_type": "code",
      "metadata": {
        "id": "n3OazzdbwKAS",
        "colab_type": "code",
        "colab": {
          "base_uri": "https://localhost:8080/",
          "height": 34
        },
        "outputId": "e84eb87e-1d08-47a9-b4ec-01c44f851387"
      },
      "source": [
        "import tensorflow as tf\n",
        "import numpy as np\n",
        "from tensorflow.keras.layers import Dense\n",
        "from tensorflow.keras.models import Sequential\n"
      ],
      "execution_count": 1,
      "outputs": [
        {
          "output_type": "stream",
          "text": [
            "TensorFlow 2.x selected.\n"
          ],
          "name": "stdout"
        }
      ]
    },
    {
      "cell_type": "code",
      "metadata": {
        "id": "9-v4CMrnwOR-",
        "colab_type": "code",
        "colab": {}
      },
      "source": [
        "xs = np.array([[0,0],[0,1],[1,0],[1,1]],dtype=float)\n",
        "ys = np.array([0,1,1,0],dtype=float)\n",
        "\n",
        "\n",
        "model = Sequential();\n",
        "\n"
      ],
      "execution_count": 0,
      "outputs": []
    },
    {
      "cell_type": "code",
      "metadata": {
        "id": "cuf2w07rwdEQ",
        "colab_type": "code",
        "colab": {}
      },
      "source": [
        "## solution\n",
        "model.add(Dense(units=32,input_dim=2, activation='relu'))\n",
        "model.add(Dense(units=16,activation='relu'))\n",
        "model.add(Dense(units=1, activation='sigmoid'))"
      ],
      "execution_count": 0,
      "outputs": []
    },
    {
      "cell_type": "code",
      "metadata": {
        "id": "zdkaOdVjwOcA",
        "colab_type": "code",
        "colab": {}
      },
      "source": [
        "model.compile(optimizer=\"sgd\", loss = \"mean_squared_error\",metrics=['acc'])\n",
        "\n",
        "history = model.fit(xs, ys, epochs=1000,verbose=2) "
      ],
      "execution_count": 0,
      "outputs": []
    },
    {
      "cell_type": "code",
      "metadata": {
        "id": "SIZUXA5twOmA",
        "colab_type": "code",
        "outputId": "b5e836ea-f639-475c-9d65-d3854a278f40",
        "colab": {
          "base_uri": "https://localhost:8080/",
          "height": 87
        }
      },
      "source": [
        "print(model.predict(xs).round())\n",
        "# should produce [[0][1][1][0]]"
      ],
      "execution_count": 5,
      "outputs": [
        {
          "output_type": "stream",
          "text": [
            "[[0.]\n",
            " [1.]\n",
            " [1.]\n",
            " [0.]]\n"
          ],
          "name": "stdout"
        }
      ]
    }
  ]
}
